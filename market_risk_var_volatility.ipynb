
{
 "cells": [
  {
   "cell_type": "code",
   "execution_count": null,
   "metadata": {},
   "outputs": [],
   "source": [
    "import yfinance as yf\n",
    "import pandas as pd\n",
    "import numpy as np\n",
    "import matplotlib.pyplot as plt\n",
    "\n",
    "# Download BTC and S&P 500 data\n",
    "btc = yf.download('BTC-USD', start='2023-01-01')\n",
    "sp500 = yf.download('^GSPC', start='2023-01-01')\n",
    "\n",
    "# Calculate daily returns\n",
    "btc['Return'] = btc['Adj Close'].pct_change()\n",
    "sp500['Return'] = sp500['Adj Close'].pct_change()\n",
    "\n",
    "# Rolling Volatility\n",
    "btc['Volatility'] = btc['Return'].rolling(window=30).std()\n",
    "sp500['Volatility'] = sp500['Return'].rolling(window=30).std()\n",
    "\n",
    "# Historical VaR (95%)\n",
    "btc['VaR_95'] = btc['Return'].rolling(100).apply(lambda x: np.percentile(x, 5))\n",
    "sp500['VaR_95'] = sp500['Return'].rolling(100).apply(lambda x: np.percentile(x, 5))\n",
    "\n",
    "# Plot BTC VaR and Volatility\n",
    "plt.figure(figsize=(12,6))\n",
    "plt.plot(btc.index, btc['VaR_95'], label='BTC VaR (95%)')\n",
    "plt.plot(btc.index, btc['Volatility'], label='BTC 30d Volatility')\n",
    "plt.title('BTC Market Risk: VaR and Volatility')\n",
    "plt.legend()\n",
    "plt.grid()\n",
    "plt.show()"
   ]
  }
 ],
 "metadata": {
  "kernelspec": {
   "display_name": "Python 3",
   "language": "python",
   "name": "python3"
  },
  "language_info": {
   "name": "python",
   "version": ""
  }
 },
 "nbformat": 4,
 "nbformat_minor": 2
}
